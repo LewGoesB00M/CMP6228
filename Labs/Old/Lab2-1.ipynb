{
  "cells": [
    {
      "cell_type": "markdown",
      "metadata": {
        "id": "view-in-github",
        "colab_type": "text"
      },
      "source": [
        "<a href=\"https://colab.research.google.com/github/LewGoesB00M/CMP6228/blob/main/Labs/Lab2-1.ipynb\" target=\"_parent\"><img src=\"https://colab.research.google.com/assets/colab-badge.svg\" alt=\"Open In Colab\"/></a>"
      ]
    },
    {
      "cell_type": "code",
      "execution_count": 11,
      "metadata": {
        "id": "LNDATJCkWavn"
      },
      "outputs": [],
      "source": [
        "import tensorflow as tf\n",
        "from keras.datasets import mnist\n",
        "\n",
        "# Highly important to use for reproducibility,\n",
        "# just like numpy.random.seed() was in earlier modules.\n",
        "from keras.utils import set_random_seed\n",
        "set_random_seed(42)"
      ]
    },
    {
      "cell_type": "code",
      "source": [
        "(train_images, train_labels), (test_images, test_labels) = mnist.load_data()"
      ],
      "metadata": {
        "id": "2xkw1wTmXfWu"
      },
      "execution_count": 12,
      "outputs": []
    },
    {
      "cell_type": "code",
      "source": [
        "print(train_images.shape)\n",
        "print(test_images.shape)"
      ],
      "metadata": {
        "colab": {
          "base_uri": "https://localhost:8080/"
        },
        "id": "sV1tRdjCXyAz",
        "outputId": "4e53fa36-cc8d-428b-da96-80e7bdc87295"
      },
      "execution_count": 13,
      "outputs": [
        {
          "output_type": "stream",
          "name": "stdout",
          "text": [
            "(60000, 28, 28)\n",
            "(10000, 28, 28)\n"
          ]
        }
      ]
    },
    {
      "cell_type": "code",
      "source": [
        "print(len(train_labels))\n",
        "print(len(test_labels))"
      ],
      "metadata": {
        "colab": {
          "base_uri": "https://localhost:8080/"
        },
        "id": "3lyJRCPhX2uN",
        "outputId": "c6555449-9f92-47f5-a1f2-c3688f9258e6"
      },
      "execution_count": 14,
      "outputs": [
        {
          "output_type": "stream",
          "name": "stdout",
          "text": [
            "60000\n",
            "10000\n"
          ]
        }
      ]
    },
    {
      "cell_type": "code",
      "source": [
        "print(train_labels)\n",
        "print(test_labels)"
      ],
      "metadata": {
        "colab": {
          "base_uri": "https://localhost:8080/"
        },
        "id": "k4ZwcsPSX41Q",
        "outputId": "f0e2a848-3b30-4c57-b0ff-6ece6d05d9aa"
      },
      "execution_count": 15,
      "outputs": [
        {
          "output_type": "stream",
          "name": "stdout",
          "text": [
            "[5 0 4 ... 5 6 8]\n",
            "[7 2 1 ... 4 5 6]\n"
          ]
        }
      ]
    },
    {
      "cell_type": "code",
      "source": [
        " # MNIST is a collection of handwritten digits in 28x28 resolution.\n",
        " # This makes a feature for each pixel.\n",
        "train_images = train_images.reshape((60000, 28 * 28))\n",
        "\n",
        "# By default, the data in each pixel is saved from 1 - 255 for its RGB color.\n",
        "# Therefore, we can put them between 0 and 1 by dividng them by 255.\n",
        "train_images = train_images.astype(\"float32\") / 255\n",
        "\n",
        "# The same is repeated for the test set.\n",
        "test_images = test_images.reshape((10000, 28 * 28))\n",
        "test_images = test_images.astype(\"float32\") / 255"
      ],
      "metadata": {
        "id": "GT53pQM0X6Vw"
      },
      "execution_count": 16,
      "outputs": []
    },
    {
      "cell_type": "code",
      "source": [
        "# The data can be one-hot encoded using Keras' \"to_categorical\" function.\n",
        "from keras.utils import to_categorical\n",
        "\n",
        "train_labels = to_categorical(train_labels)\n",
        "test_labels = to_categorical(test_labels)"
      ],
      "metadata": {
        "id": "rbbOebZIZAkG"
      },
      "execution_count": 17,
      "outputs": []
    },
    {
      "cell_type": "code",
      "source": [
        "# To build models you need to import models.\n",
        "from keras import models\n",
        "# To add layers you must import the layers.\n",
        "from keras import layers\n",
        "\n",
        "# Build a sequential model, currently with no layers.\n",
        "network = models.Sequential()\n",
        "\n",
        "# Add two Dense layers (fully connected to each other hence Dense)\n",
        "network.add(layers.Dense(512, input_shape = (28 * 28,))) # Takes a tuple.\n",
        "network.add(layers.Dense(10, activation = \"softmax\"))\n"
      ],
      "metadata": {
        "colab": {
          "base_uri": "https://localhost:8080/"
        },
        "id": "KAsXJR4tZf7W",
        "outputId": "8e55cce0-5032-4638-b2bb-9b8940164cf6"
      },
      "execution_count": 18,
      "outputs": [
        {
          "output_type": "stream",
          "name": "stderr",
          "text": [
            "/usr/local/lib/python3.11/dist-packages/keras/src/layers/core/dense.py:87: UserWarning: Do not pass an `input_shape`/`input_dim` argument to a layer. When using Sequential models, prefer using an `Input(shape)` object as the first layer in the model instead.\n",
            "  super().__init__(activity_regularizer=activity_regularizer, **kwargs)\n"
          ]
        }
      ]
    },
    {
      "cell_type": "code",
      "source": [
        "# Binary cross-entropy (not seen here) is the BINARY LOGARITHMIC LOSS,\n",
        "# and is used for BINARY CLASSIFICATION.\n",
        "\n",
        "# Categorical cross-entropy (used below) is the MULTICLASS LOGARITHMIC LOSS,\n",
        "# used for MULTIPLE CLASSIFICATION.\n",
        "\n",
        "# Stochastic Gradiant Descent (SGD) is very complicated.\n",
        "# In VERY SIMPLIFIED TERMS, it is used to speed up calculations\n",
        "# by using small batches of data at a time rather than the whole set.\n",
        "\n",
        "# The optimizer also calculates optimal weights I think?\n",
        "\n",
        "network.compile(optimizer = \"SGD\",\n",
        "                loss = \"categorical_crossentropy\",\n",
        "                metrics = [\"accuracy\"])"
      ],
      "metadata": {
        "id": "XYIG_3o_aEMb"
      },
      "execution_count": 19,
      "outputs": []
    },
    {
      "cell_type": "code",
      "source": [
        "# This cell fits the model. It should theoretically be faster on a GPU runtime.\n",
        "network.fit(train_images, train_labels,\n",
        "            epochs = 5,\n",
        "            batch_size = 128)"
      ],
      "metadata": {
        "colab": {
          "base_uri": "https://localhost:8080/"
        },
        "id": "Iq6JoDJIbe-Q",
        "outputId": "4049fd38-3fda-479c-c301-51474ee93d18"
      },
      "execution_count": 20,
      "outputs": [
        {
          "output_type": "stream",
          "name": "stdout",
          "text": [
            "Epoch 1/5\n",
            "\u001b[1m469/469\u001b[0m \u001b[32m━━━━━━━━━━━━━━━━━━━━\u001b[0m\u001b[37m\u001b[0m \u001b[1m2s\u001b[0m 3ms/step - accuracy: 0.6659 - loss: 1.2471\n",
            "Epoch 2/5\n",
            "\u001b[1m469/469\u001b[0m \u001b[32m━━━━━━━━━━━━━━━━━━━━\u001b[0m\u001b[37m\u001b[0m \u001b[1m2s\u001b[0m 2ms/step - accuracy: 0.8698 - loss: 0.5022\n",
            "Epoch 3/5\n",
            "\u001b[1m469/469\u001b[0m \u001b[32m━━━━━━━━━━━━━━━━━━━━\u001b[0m\u001b[37m\u001b[0m \u001b[1m1s\u001b[0m 2ms/step - accuracy: 0.8849 - loss: 0.4203\n",
            "Epoch 4/5\n",
            "\u001b[1m469/469\u001b[0m \u001b[32m━━━━━━━━━━━━━━━━━━━━\u001b[0m\u001b[37m\u001b[0m \u001b[1m1s\u001b[0m 2ms/step - accuracy: 0.8932 - loss: 0.3842\n",
            "Epoch 5/5\n",
            "\u001b[1m469/469\u001b[0m \u001b[32m━━━━━━━━━━━━━━━━━━━━\u001b[0m\u001b[37m\u001b[0m \u001b[1m1s\u001b[0m 2ms/step - accuracy: 0.8987 - loss: 0.3629\n"
          ]
        },
        {
          "output_type": "execute_result",
          "data": {
            "text/plain": [
              "<keras.src.callbacks.history.History at 0x79db58f1de90>"
            ]
          },
          "metadata": {},
          "execution_count": 20
        }
      ]
    },
    {
      "cell_type": "code",
      "source": [
        "test_loss, test_acc = network.evaluate(test_images, test_labels)\n",
        "print(f\"Test accuracy (higher is better): {test_acc}\")\n",
        "print(f\"Test loss (lower is better): {test_loss}\")"
      ],
      "metadata": {
        "id": "Clqwl6ujbrwT",
        "outputId": "16a5aa16-8fa1-4064-fc33-99bd563e1b8b",
        "colab": {
          "base_uri": "https://localhost:8080/"
        }
      },
      "execution_count": 21,
      "outputs": [
        {
          "output_type": "stream",
          "name": "stdout",
          "text": [
            "\u001b[1m313/313\u001b[0m \u001b[32m━━━━━━━━━━━━━━━━━━━━\u001b[0m\u001b[37m\u001b[0m \u001b[1m1s\u001b[0m 3ms/step - accuracy: 0.8930 - loss: 0.3824\n",
            "Test accuracy (higher is better): 0.907800018787384\n",
            "Test loss (lower is better): 0.3336487412452698\n"
          ]
        }
      ]
    },
    {
      "cell_type": "markdown",
      "source": [
        "To predict something, you'd simply call predict() as with any model.\n",
        "\n",
        "To evaluate said prediction, you can run one of three functions:\n",
        "-  network.evaluate() - Gives loss values.\n",
        "-  network.predict_classes() - Gives category outputs (whatever this means)\n",
        "-  network.predict_proba() - Gives calculated probabilities of each class.\n",
        "\n",
        "> Predict classes & probability don't seem to exist? Look into this."
      ],
      "metadata": {
        "id": "eBM-APmCgDUA"
      }
    }
  ],
  "metadata": {
    "language_info": {
      "name": "python"
    },
    "colab": {
      "provenance": [],
      "gpuType": "T4",
      "include_colab_link": true
    },
    "kernelspec": {
      "name": "python3",
      "display_name": "Python 3"
    },
    "accelerator": "GPU"
  },
  "nbformat": 4,
  "nbformat_minor": 0
}