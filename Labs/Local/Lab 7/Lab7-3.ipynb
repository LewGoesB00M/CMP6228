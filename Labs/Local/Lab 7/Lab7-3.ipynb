{
 "cells": [
  {
   "cell_type": "markdown",
   "metadata": {},
   "source": [
    "# Lab 7 Extra - Loading an external dataset"
   ]
  },
  {
   "cell_type": "code",
   "execution_count": null,
   "metadata": {},
   "outputs": [],
   "source": [
    "from tensorflow.keras.utils import get_file\n",
    "import os"
   ]
  },
  {
   "cell_type": "code",
   "execution_count": null,
   "metadata": {},
   "outputs": [],
   "source": [
    "_URL = \"https://storage.googleapis.com/mledu-datasets/cats_and_dogs_filtered.zip\" \n",
    "# ! Not the Kaggle link, but the one used in the lab.\n",
    "# ! I don't recommend running this lab locally (at least not on the laptop)\n",
    "\n",
    "pathToExtracted = get_file(\"cats_and_dogs.zip\", origin = _URL, extract = True)\n",
    "PATH = os.path.join(pathToExtracted, \"cats_and_dogs_filtered\")\n",
    "\n",
    "trainDir = os.path.join(PATH, \"train\")\n",
    "valDir = os.path.join(PATH, \"validation\")\n",
    "\n",
    "trainCatsDir = os.path.join(trainDir, \"cats\")\n",
    "trainDogsDir = os.path.join(trainDir, \"dogs\")\n",
    "valCatsDir = os.path.join(valDir, \"cats\")\n",
    "valDogsDir = os.path.join(valDir, \"dogs\")"
   ]
  },
  {
   "cell_type": "code",
   "execution_count": null,
   "metadata": {},
   "outputs": [],
   "source": [
    "# Check the number of images in each set\n",
    "numCatsTrain = len(os.listdir(trainCatsDir))\n",
    "numDogsTrain = len(os.listdir(trainDogsDir))\n",
    "numCatsVal = len(os.listdir(valCatsDir))\n",
    "numDogsVal = len(os.listdir(valDogsDir))\n",
    "totalTrain = numCatsTrain + numDogsTrain\n",
    "totalVal = numCatsVal + numDogsVal\n",
    "\n",
    "print('total training cat images:', numCatsTrain)\n",
    "print('total training dog images:', numDogsTrain)\n",
    "print('total validation cat images:', numCatsVal)\n",
    "print('total validation dog images:', numDogsVal)\n",
    "print(\"--\")\n",
    "print(\"Total training images:\", totalTrain)\n",
    "print(\"Total validation images:\", totalVal)"
   ]
  }
 ],
 "metadata": {
  "kernelspec": {
   "display_name": ".venv",
   "language": "python",
   "name": "python3"
  },
  "language_info": {
   "name": "python",
   "version": "3.9.21"
  }
 },
 "nbformat": 4,
 "nbformat_minor": 2
}
