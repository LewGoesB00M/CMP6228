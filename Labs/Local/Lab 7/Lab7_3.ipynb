{
  "cells": [
    {
      "cell_type": "markdown",
      "metadata": {
        "id": "2e9ZdemD_03l"
      },
      "source": [
        "# Lab 7 Extra - Data augmentation with ImageDatagenerator\n",
        "\n",
        "This will be important for your actual coursework, too."
      ]
    },
    {
      "cell_type": "code",
      "execution_count": 1,
      "metadata": {
        "id": "kCwbv-NV_zbI"
      },
      "outputs": [],
      "source": [
        "from tensorflow.keras.preprocessing.image import ImageDataGenerator\n",
        "from keras.datasets import cifar10\n",
        "from tensorflow.keras.utils import to_categorical\n",
        "from keras.models import Sequential, model_from_json\n",
        "from keras.layers import Dense, Dropout, Activation, Flatten, Conv2D, MaxPooling2D, InputLayer\n",
        "from keras.optimizers import SGD, Adam, RMSprop\n",
        "import matplotlib.pyplot as plt\n",
        "import numpy as np\n",
        "import os\n",
        "import tensorflow as tf"
      ]
    },
    {
      "cell_type": "code",
      "execution_count": null,
      "metadata": {
        "colab": {
          "base_uri": "https://localhost:8080/"
        },
        "id": "UQtzsrfe__OA",
        "outputId": "59ec9f0b-01e5-483d-866a-1bcee553415f"
      },
      "outputs": [],
      "source": [
        "# Needed from Lab7-2.\n",
        "NB_CLASSES = 10\n",
        "\n",
        "# Define the number of augmentations to create per image.\n",
        "NUM_TO_AUGMENT = 5 # ! Under no cirumstances is this ever really possible in a 60k image dataset.\n",
        "\n",
        "#load dataset\n",
        "(X_train, y_train), (X_test, y_test) = cifar10.load_data()\n",
        "# One-hot encode the target variables\n",
        "Y_train = to_categorical(y_train, NB_CLASSES)\n",
        "Y_test = to_categorical(y_test, NB_CLASSES)\n",
        "# Normalize the images\n",
        "X_train = X_train.astype('float32')\n",
        "X_test = X_test.astype('float32')\n",
        "X_train /= 255\n",
        "X_test /= 255"
      ]
    },
    {
      "cell_type": "code",
      "execution_count": 3,
      "metadata": {
        "id": "trFrT47wAE3S"
      },
      "outputs": [],
      "source": [
        "# Create an ImageDataGenerator object with specified augmentation parameters.\n",
        "datagen = ImageDataGenerator(\n",
        "    rotation_range=40, # Range of random rotation in degrees.\n",
        "    width_shift_range=0.2, # Range for random horizontal shifts (fraction of total width).\n",
        "    height_shift_range=0.2, # Range for random vertical shifts (fraction of total height).\n",
        "    zoom_range=0.2, # Range for random zoom.\n",
        "    horizontal_flip=True, # Randomly flip inputs horizontally.\n",
        "    fill_mode='nearest' # Strategy for filling newly created pixels.\n",
        ")"
      ]
    },
    {
      "cell_type": "code",
      "execution_count": null,
      "metadata": {
        "id": "u3ZCFXigAPK1"
      },
      "outputs": [
        {
          "ename": "KeyboardInterrupt",
          "evalue": "",
          "output_type": "error",
          "traceback": [
            "\u001b[1;31m---------------------------------------------------------------------------\u001b[0m",
            "\u001b[1;31mKeyboardInterrupt\u001b[0m                         Traceback (most recent call last)",
            "Cell \u001b[1;32mIn[6], line 16\u001b[0m\n\u001b[0;32m     13\u001b[0m x \u001b[38;5;241m=\u001b[39m x\u001b[38;5;241m.\u001b[39mreshape((\u001b[38;5;241m1\u001b[39m,) \u001b[38;5;241m+\u001b[39m x\u001b[38;5;241m.\u001b[39mshape) \u001b[38;5;66;03m# (1, 3, 32, 32)\u001b[39;00m\n\u001b[0;32m     15\u001b[0m \u001b[38;5;66;03m# Generate augmented images using the datagen.flow method.\u001b[39;00m\n\u001b[1;32m---> 16\u001b[0m \u001b[38;5;28;01mfor\u001b[39;00m x_aug \u001b[38;5;129;01min\u001b[39;00m datagen\u001b[38;5;241m.\u001b[39mflow(x, batch_size\u001b[38;5;241m=\u001b[39m\u001b[38;5;241m1\u001b[39m,\n\u001b[0;32m     17\u001b[0m                         save_to_dir\u001b[38;5;241m=\u001b[39m\u001b[38;5;124m'\u001b[39m\u001b[38;5;124mD:/University/CMP6228/Labs/Local/Lab 7/Images\u001b[39m\u001b[38;5;124m'\u001b[39m, \n\u001b[0;32m     18\u001b[0m                         \u001b[38;5;66;03m# Directory to save augmented images (optional).\u001b[39;00m\n\u001b[0;32m     19\u001b[0m                         \n\u001b[0;32m     20\u001b[0m                         save_prefix\u001b[38;5;241m=\u001b[39m\u001b[38;5;124m'\u001b[39m\u001b[38;5;124mcifar\u001b[39m\u001b[38;5;124m'\u001b[39m, \u001b[38;5;66;03m# Prefix for saved image filenames (optional).\u001b[39;00m\n\u001b[0;32m     21\u001b[0m                         save_format\u001b[38;5;241m=\u001b[39m\u001b[38;5;124m'\u001b[39m\u001b[38;5;124mjpeg\u001b[39m\u001b[38;5;124m'\u001b[39m): \u001b[38;5;66;03m# Format to save augmented images in (optional).\u001b[39;00m\n\u001b[0;32m     22\u001b[0m \u001b[38;5;66;03m# Check if the desired number of augmentations has been reached for the current image.\u001b[39;00m\n\u001b[0;32m     23\u001b[0m     \u001b[38;5;28;01mif\u001b[39;00m num_aug \u001b[38;5;241m>\u001b[39m\u001b[38;5;241m=\u001b[39m NUM_TO_AUGMENT:\n\u001b[0;32m     24\u001b[0m         \u001b[38;5;28;01mbreak\u001b[39;00m \u001b[38;5;66;03m# Exit the inner loop if enough augmentations have been created.\u001b[39;00m\n",
            "File \u001b[1;32md:\\University\\CMP6228\\Labs\\.venv\\lib\\site-packages\\keras\\preprocessing\\image.py:156\u001b[0m, in \u001b[0;36mIterator.__next__\u001b[1;34m(self, *args, **kwargs)\u001b[0m\n\u001b[0;32m    155\u001b[0m \u001b[38;5;28;01mdef\u001b[39;00m\u001b[38;5;250m \u001b[39m\u001b[38;5;21m__next__\u001b[39m(\u001b[38;5;28mself\u001b[39m, \u001b[38;5;241m*\u001b[39margs, \u001b[38;5;241m*\u001b[39m\u001b[38;5;241m*\u001b[39mkwargs):\n\u001b[1;32m--> 156\u001b[0m     \u001b[38;5;28;01mreturn\u001b[39;00m \u001b[38;5;28mself\u001b[39m\u001b[38;5;241m.\u001b[39mnext(\u001b[38;5;241m*\u001b[39margs, \u001b[38;5;241m*\u001b[39m\u001b[38;5;241m*\u001b[39mkwargs)\n",
            "File \u001b[1;32md:\\University\\CMP6228\\Labs\\.venv\\lib\\site-packages\\keras\\preprocessing\\image.py:168\u001b[0m, in \u001b[0;36mIterator.next\u001b[1;34m(self)\u001b[0m\n\u001b[0;32m    165\u001b[0m     index_array \u001b[38;5;241m=\u001b[39m \u001b[38;5;28mnext\u001b[39m(\u001b[38;5;28mself\u001b[39m\u001b[38;5;241m.\u001b[39mindex_generator)\n\u001b[0;32m    166\u001b[0m \u001b[38;5;66;03m# The transformation of images is not under thread lock\u001b[39;00m\n\u001b[0;32m    167\u001b[0m \u001b[38;5;66;03m# so it can be done in parallel\u001b[39;00m\n\u001b[1;32m--> 168\u001b[0m \u001b[38;5;28;01mreturn\u001b[39;00m \u001b[38;5;28;43mself\u001b[39;49m\u001b[38;5;241;43m.\u001b[39;49m\u001b[43m_get_batches_of_transformed_samples\u001b[49m\u001b[43m(\u001b[49m\u001b[43mindex_array\u001b[49m\u001b[43m)\u001b[49m\n",
            "File \u001b[1;32md:\\University\\CMP6228\\Labs\\.venv\\lib\\site-packages\\keras\\preprocessing\\image.py:818\u001b[0m, in \u001b[0;36mNumpyArrayIterator._get_batches_of_transformed_samples\u001b[1;34m(self, index_array)\u001b[0m\n\u001b[0;32m    809\u001b[0m         img \u001b[38;5;241m=\u001b[39m image_utils\u001b[38;5;241m.\u001b[39marray_to_img(\n\u001b[0;32m    810\u001b[0m             batch_x[i], \u001b[38;5;28mself\u001b[39m\u001b[38;5;241m.\u001b[39mdata_format, scale\u001b[38;5;241m=\u001b[39m\u001b[38;5;28;01mTrue\u001b[39;00m\n\u001b[0;32m    811\u001b[0m         )\n\u001b[0;32m    812\u001b[0m         fname \u001b[38;5;241m=\u001b[39m \u001b[38;5;124m\"\u001b[39m\u001b[38;5;132;01m{prefix}\u001b[39;00m\u001b[38;5;124m_\u001b[39m\u001b[38;5;132;01m{index}\u001b[39;00m\u001b[38;5;124m_\u001b[39m\u001b[38;5;132;01m{hash}\u001b[39;00m\u001b[38;5;124m.\u001b[39m\u001b[38;5;132;01m{format}\u001b[39;00m\u001b[38;5;124m\"\u001b[39m\u001b[38;5;241m.\u001b[39mformat(\n\u001b[0;32m    813\u001b[0m             prefix\u001b[38;5;241m=\u001b[39m\u001b[38;5;28mself\u001b[39m\u001b[38;5;241m.\u001b[39msave_prefix,\n\u001b[0;32m    814\u001b[0m             index\u001b[38;5;241m=\u001b[39mj,\n\u001b[0;32m    815\u001b[0m             \u001b[38;5;28mhash\u001b[39m\u001b[38;5;241m=\u001b[39mnp\u001b[38;5;241m.\u001b[39mrandom\u001b[38;5;241m.\u001b[39mrandint(\u001b[38;5;241m1e4\u001b[39m),\n\u001b[0;32m    816\u001b[0m             \u001b[38;5;28mformat\u001b[39m\u001b[38;5;241m=\u001b[39m\u001b[38;5;28mself\u001b[39m\u001b[38;5;241m.\u001b[39msave_format,\n\u001b[0;32m    817\u001b[0m         )\n\u001b[1;32m--> 818\u001b[0m         \u001b[43mimg\u001b[49m\u001b[38;5;241;43m.\u001b[39;49m\u001b[43msave\u001b[49m\u001b[43m(\u001b[49m\u001b[43mos\u001b[49m\u001b[38;5;241;43m.\u001b[39;49m\u001b[43mpath\u001b[49m\u001b[38;5;241;43m.\u001b[39;49m\u001b[43mjoin\u001b[49m\u001b[43m(\u001b[49m\u001b[38;5;28;43mself\u001b[39;49m\u001b[38;5;241;43m.\u001b[39;49m\u001b[43msave_to_dir\u001b[49m\u001b[43m,\u001b[49m\u001b[43m \u001b[49m\u001b[43mfname\u001b[49m\u001b[43m)\u001b[49m\u001b[43m)\u001b[49m\n\u001b[0;32m    819\u001b[0m batch_x_miscs \u001b[38;5;241m=\u001b[39m [xx[index_array] \u001b[38;5;28;01mfor\u001b[39;00m xx \u001b[38;5;129;01min\u001b[39;00m \u001b[38;5;28mself\u001b[39m\u001b[38;5;241m.\u001b[39mx_misc]\n\u001b[0;32m    820\u001b[0m output \u001b[38;5;241m=\u001b[39m (batch_x \u001b[38;5;28;01mif\u001b[39;00m \u001b[38;5;129;01mnot\u001b[39;00m batch_x_miscs \u001b[38;5;28;01melse\u001b[39;00m [batch_x] \u001b[38;5;241m+\u001b[39m batch_x_miscs,)\n",
            "File \u001b[1;32md:\\University\\CMP6228\\Labs\\.venv\\lib\\site-packages\\PIL\\Image.py:2591\u001b[0m, in \u001b[0;36mImage.save\u001b[1;34m(self, fp, format, **params)\u001b[0m\n\u001b[0;32m   2589\u001b[0m         fp \u001b[38;5;241m=\u001b[39m builtins\u001b[38;5;241m.\u001b[39mopen(filename, \u001b[38;5;124m\"\u001b[39m\u001b[38;5;124mr+b\u001b[39m\u001b[38;5;124m\"\u001b[39m)\n\u001b[0;32m   2590\u001b[0m     \u001b[38;5;28;01melse\u001b[39;00m:\n\u001b[1;32m-> 2591\u001b[0m         fp \u001b[38;5;241m=\u001b[39m \u001b[43mbuiltins\u001b[49m\u001b[38;5;241;43m.\u001b[39;49m\u001b[43mopen\u001b[49m\u001b[43m(\u001b[49m\u001b[43mfilename\u001b[49m\u001b[43m,\u001b[49m\u001b[43m \u001b[49m\u001b[38;5;124;43m\"\u001b[39;49m\u001b[38;5;124;43mw+b\u001b[39;49m\u001b[38;5;124;43m\"\u001b[39;49m\u001b[43m)\u001b[49m\n\u001b[0;32m   2592\u001b[0m \u001b[38;5;28;01melse\u001b[39;00m:\n\u001b[0;32m   2593\u001b[0m     fp \u001b[38;5;241m=\u001b[39m cast(IO[\u001b[38;5;28mbytes\u001b[39m], fp)\n",
            "\u001b[1;31mKeyboardInterrupt\u001b[0m: "
          ]
        }
      ],
      "source": [
        "# Initialize empty lists to store the augmented images (xtas) and their corresponding labels (ytas).\n",
        "xtas, ytas = [], []\n",
        "\n",
        "# Iterate over each image in the training set (X_train).\n",
        "for i in range(X_train.shape[0]):\n",
        "    # Initialize a counter for the number of augmentations created for the current image.\n",
        "    num_aug = 0\n",
        "\n",
        "    # Get the current image from the training set.\n",
        "    x = X_train[i]\n",
        "\n",
        "    # Reshape the image to add a batch dimension (required by ImageDataGenerator.flow).\n",
        "    x = x.reshape((1,) + x.shape) # (1, 3, 32, 32)\n",
        "\n",
        "    # Generate augmented images using the datagen.flow method.\n",
        "    for x_aug in datagen.flow(x, batch_size=1,\n",
        "                            save_to_dir='D:/University/CMP6228/Labs/Local/Lab 7/Images', \n",
        "                            # Directory to save augmented images (optional).\n",
        "                            # ! Must be an ABSOLUTE (full) directory path, not a relative one.\n",
        "                            # ? Maybe it can be relative but it won't create it for you. Dir must exist.\n",
        "                            \n",
        "                            save_prefix='cifar', # Prefix for saved image filenames (optional).\n",
        "                            save_format='jpeg'): # Format to save augmented images in (optional).\n",
        "    # Check if the desired number of augmentations has been reached for the current image.\n",
        "        if num_aug >= NUM_TO_AUGMENT:\n",
        "            break # Exit the inner loop if enough augmentations have been created.\n",
        "\n",
        "        # Append the augmented image to the xtas list.\n",
        "        xtas.append(x_aug[0])\n",
        "\n",
        "        # Increment the augmentation counter.\n",
        "        num_aug += 1"
      ]
    },
    {
      "cell_type": "code",
      "execution_count": null,
      "metadata": {
        "id": "AocsjSL-AmBm"
      },
      "outputs": [],
      "source": [
        "datagen.fit(X_train)"
      ]
    },
    {
      "cell_type": "code",
      "execution_count": null,
      "metadata": {
        "id": "WNtQ188AAozU"
      },
      "outputs": [],
      "source": [
        "# Load the model and weights from earlier files in Lab 7.\n",
        "## Specificially the 'deep model' of Lab7-2.\n",
        "model = model_from_json(\"DeepCIFAR10.json\")\n",
        "model.load_weights(\"DeepCIFAR10.weights.h5\")\n"
      ]
    }
  ],
  "metadata": {
    "accelerator": "GPU",
    "colab": {
      "gpuType": "T4",
      "provenance": []
    },
    "kernelspec": {
      "display_name": ".venv",
      "language": "python",
      "name": "python3"
    },
    "language_info": {
      "codemirror_mode": {
        "name": "ipython",
        "version": 3
      },
      "file_extension": ".py",
      "mimetype": "text/x-python",
      "name": "python",
      "nbconvert_exporter": "python",
      "pygments_lexer": "ipython3",
      "version": "3.9.21"
    }
  },
  "nbformat": 4,
  "nbformat_minor": 0
}
