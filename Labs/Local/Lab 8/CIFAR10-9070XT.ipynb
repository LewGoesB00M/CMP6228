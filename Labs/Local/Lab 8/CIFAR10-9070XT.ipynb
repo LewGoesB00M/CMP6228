{
  "cells": [
    {
      "cell_type": "markdown",
      "metadata": {},
      "source": [
        "# Lab 8 - Transfer learning"
      ]
    },
    {
      "cell_type": "markdown",
      "metadata": {
        "id": "lzfZSxtkNDl9"
      },
      "source": [
        "## Shallow mode"
      ]
    },
    {
      "cell_type": "markdown",
      "metadata": {
        "id": "5GeFBY_BNDl_"
      },
      "source": [
        "### Imports and vars"
      ]
    },
    {
      "cell_type": "code",
      "execution_count": 1,
      "metadata": {
        "id": "Lpz3vXK8NDl_"
      },
      "outputs": [],
      "source": [
        "from keras.datasets import cifar10\n",
        "from keras.utils import to_categorical\n",
        "from keras.models import Sequential\n",
        "from keras.layers import Dense, Dropout, Activation, Flatten\n",
        "from keras.layers import Conv2D, MaxPooling2D\n",
        "from keras.optimizers import SGD, Adam, RMSprop\n",
        "import numpy as np\n",
        "import tensorflow as tf\n",
        "from keras.applications.vgg16 import VGG16, preprocess_input\n",
        "from keras import models, layers"
      ]
    },
    {
      "cell_type": "code",
      "execution_count": 2,
      "metadata": {},
      "outputs": [
        {
          "name": "stdout",
          "output_type": "stream",
          "text": [
            "2 Physical GPUs, 1 Logical GPU\n"
          ]
        }
      ],
      "source": [
        "# GPU init\n",
        "gpus = tf.config.list_physical_devices('GPU')\n",
        "if gpus:\n",
        "  # Restrict TensorFlow to only use the first GPU\n",
        "  try:\n",
        "    tf.config.set_visible_devices(gpus[0], 'GPU')\n",
        "    logical_gpus = tf.config.list_logical_devices('GPU')\n",
        "    print(len(gpus), \"Physical GPUs,\", len(logical_gpus), \"Logical GPU\")\n",
        "  except RuntimeError as e:\n",
        "    # Visible devices must be set before GPUs have been initialized\n",
        "    print(e)"
      ]
    },
    {
      "cell_type": "code",
      "execution_count": 3,
      "metadata": {
        "id": "yKPskIazNDmA"
      },
      "outputs": [],
      "source": [
        "# --- Constants ---\n",
        "IMG_ROWS = 32\n",
        "IMG_COLS = 32\n",
        "IMG_CHANNELS = 3\n",
        "BATCH_SIZE = 128\n",
        "NB_EPOCH = 20\n",
        "NB_CLASSES = 10\n",
        "VALIDATION_SPLIT = 0.2\n",
        "OPTIM = RMSprop()"
      ]
    },
    {
      "cell_type": "code",
      "execution_count": 4,
      "metadata": {
        "colab": {
          "base_uri": "https://localhost:8080/"
        },
        "id": "nMqJlx_SNDmB",
        "outputId": "d7bce334-f837-4793-e6e2-0d3dcea9a44b"
      },
      "outputs": [
        {
          "name": "stdout",
          "output_type": "stream",
          "text": [
            "X_train shape: (50000, 32, 32, 3)\n",
            "50000 train samples\n",
            "10000 test samples\n"
          ]
        }
      ],
      "source": [
        "# --- Load CIFAR-10 ---\n",
        "(X_train, y_train), (X_test, y_test) = cifar10.load_data()\n",
        "print('X_train shape:', X_train.shape) # (50000, 32, 32, 3)\n",
        "print(X_train.shape[0], 'train samples')\n",
        "print(X_test.shape[0], 'test samples')\n",
        "Y_train = to_categorical(y_train, NB_CLASSES)\n",
        "Y_test = to_categorical(y_test, NB_CLASSES)\n",
        "X_train = X_train.astype('float32') / 255.0\n",
        "X_test = X_test.astype('float32') / 255.0"
      ]
    },
    {
      "cell_type": "markdown",
      "metadata": {
        "id": "P2chd41INDmC"
      },
      "source": [
        "### Model building"
      ]
    },
    {
      "cell_type": "code",
      "execution_count": 5,
      "metadata": {
        "colab": {
          "base_uri": "https://localhost:8080/"
        },
        "id": "V2M1QauwNDmC",
        "outputId": "9afa4212-784a-40f9-ac02-f230b10a104c"
      },
      "outputs": [],
      "source": [
        "# --- Build the model with pre-trained VGG16 convolutional base ---\n",
        "conv_base = VGG16(weights='imagenet',\n",
        "                  include_top=False,\n",
        "                  input_shape=(IMG_ROWS, IMG_COLS, IMG_CHANNELS))\n",
        "\n",
        "# Freeze the convolutional base\n",
        "conv_base.trainable = False\n",
        "# ? Seems that this'll keep the model's pretraining (the 'convolutional base').\n",
        "\n",
        "model = models.Sequential()\n",
        "model.add(conv_base)\n",
        "model.add(layers.Flatten())\n",
        "model.add(layers.Dense(256, activation='relu'))\n",
        "model.add(layers.Dense(NB_CLASSES, activation='softmax'))\n",
        "\n",
        "model.compile(loss='categorical_crossentropy',\n",
        "              optimizer=OPTIM,\n",
        "              metrics=['accuracy'])"
      ]
    },
    {
      "cell_type": "markdown",
      "metadata": {
        "id": "HH_OtilPNDmC"
      },
      "source": [
        "### Training and evaluation"
      ]
    },
    {
      "cell_type": "code",
      "execution_count": 6,
      "metadata": {
        "colab": {
          "base_uri": "https://localhost:8080/"
        },
        "id": "SBUdM2h1NDmD",
        "outputId": "3f579b48-8ca4-4baf-c9d1-2ff5fc349b3e"
      },
      "outputs": [
        {
          "name": "stdout",
          "output_type": "stream",
          "text": [
            "Epoch 1/20\n",
            "313/313 [==============================] - 4s 8ms/step - loss: 1.4520 - accuracy: 0.4974 - val_loss: 1.3417 - val_accuracy: 0.5307\n",
            "Epoch 2/20\n",
            "313/313 [==============================] - 2s 7ms/step - loss: 1.2413 - accuracy: 0.5708 - val_loss: 1.2410 - val_accuracy: 0.5732\n",
            "Epoch 3/20\n",
            "313/313 [==============================] - 2s 7ms/step - loss: 1.1778 - accuracy: 0.5899 - val_loss: 1.2128 - val_accuracy: 0.5814\n",
            "Epoch 4/20\n",
            "313/313 [==============================] - 2s 7ms/step - loss: 1.1317 - accuracy: 0.6041 - val_loss: 1.1957 - val_accuracy: 0.5820\n",
            "Epoch 5/20\n",
            "313/313 [==============================] - 2s 7ms/step - loss: 1.0993 - accuracy: 0.6165 - val_loss: 1.1726 - val_accuracy: 0.5907\n",
            "Epoch 6/20\n",
            "313/313 [==============================] - 2s 7ms/step - loss: 1.0689 - accuracy: 0.6265 - val_loss: 1.2159 - val_accuracy: 0.5762\n",
            "Epoch 7/20\n",
            "313/313 [==============================] - 2s 7ms/step - loss: 1.0392 - accuracy: 0.6381 - val_loss: 1.1844 - val_accuracy: 0.5906\n",
            "Epoch 8/20\n",
            "313/313 [==============================] - 2s 7ms/step - loss: 1.0145 - accuracy: 0.6452 - val_loss: 1.1500 - val_accuracy: 0.6041\n",
            "Epoch 9/20\n",
            "313/313 [==============================] - 2s 7ms/step - loss: 0.9871 - accuracy: 0.6567 - val_loss: 1.1854 - val_accuracy: 0.5932\n",
            "Epoch 10/20\n",
            "313/313 [==============================] - 2s 7ms/step - loss: 0.9658 - accuracy: 0.6636 - val_loss: 1.1359 - val_accuracy: 0.6101\n",
            "Epoch 11/20\n",
            "313/313 [==============================] - 2s 7ms/step - loss: 0.9438 - accuracy: 0.6708 - val_loss: 1.1637 - val_accuracy: 0.6004\n",
            "Epoch 12/20\n",
            "313/313 [==============================] - 2s 7ms/step - loss: 0.9240 - accuracy: 0.6792 - val_loss: 1.1388 - val_accuracy: 0.6084\n",
            "Epoch 13/20\n",
            "313/313 [==============================] - 2s 7ms/step - loss: 0.9030 - accuracy: 0.6869 - val_loss: 1.1402 - val_accuracy: 0.6105\n",
            "Epoch 14/20\n",
            "313/313 [==============================] - 2s 7ms/step - loss: 0.8831 - accuracy: 0.6930 - val_loss: 1.1229 - val_accuracy: 0.6181\n",
            "Epoch 15/20\n",
            "313/313 [==============================] - 2s 7ms/step - loss: 0.8639 - accuracy: 0.6977 - val_loss: 1.1403 - val_accuracy: 0.6132\n",
            "Epoch 16/20\n",
            "313/313 [==============================] - 2s 7ms/step - loss: 0.8446 - accuracy: 0.7063 - val_loss: 1.1299 - val_accuracy: 0.6170\n",
            "Epoch 17/20\n",
            "313/313 [==============================] - 2s 7ms/step - loss: 0.8260 - accuracy: 0.7131 - val_loss: 1.1477 - val_accuracy: 0.6157\n",
            "Epoch 18/20\n",
            "313/313 [==============================] - 2s 7ms/step - loss: 0.8093 - accuracy: 0.7204 - val_loss: 1.1393 - val_accuracy: 0.6204\n",
            "Epoch 19/20\n",
            "313/313 [==============================] - 2s 7ms/step - loss: 0.7916 - accuracy: 0.7265 - val_loss: 1.1472 - val_accuracy: 0.6168\n",
            "Epoch 20/20\n",
            "313/313 [==============================] - 2s 7ms/step - loss: 0.7739 - accuracy: 0.7325 - val_loss: 1.1821 - val_accuracy: 0.6069\n"
          ]
        },
        {
          "data": {
            "text/plain": [
              "<keras.callbacks.History at 0x1a78036add0>"
            ]
          },
          "execution_count": 6,
          "metadata": {},
          "output_type": "execute_result"
        }
      ],
      "source": [
        "# --- Train ---\n",
        "model.fit(X_train, Y_train,\n",
        "          batch_size=BATCH_SIZE,\n",
        "          epochs=NB_EPOCH,\n",
        "          validation_split=VALIDATION_SPLIT,\n",
        "          verbose=1)"
      ]
    },
    {
      "cell_type": "code",
      "execution_count": 7,
      "metadata": {
        "colab": {
          "base_uri": "https://localhost:8080/"
        },
        "id": "FVcW2RodNDmE",
        "outputId": "adf1f109-30f5-45b6-f1ff-42fb3891f4a8"
      },
      "outputs": [
        {
          "name": "stdout",
          "output_type": "stream",
          "text": [
            "79/79 [==============================] - 0s 6ms/step - loss: 1.1852 - accuracy: 0.6071\n",
            "Test score: 1.1852288246154785\n",
            "Test accuracy: 0.6071000099182129\n"
          ]
        }
      ],
      "source": [
        "score = model.evaluate(X_test, Y_test,\n",
        "                       batch_size=BATCH_SIZE,\n",
        "                       verbose=1)\n",
        "\n",
        "print(\"Test score:\", score[0])\n",
        "print(\"Test accuracy:\", score[1])"
      ]
    },
    {
      "cell_type": "markdown",
      "metadata": {
        "id": "GfZjGOOQNDmF"
      },
      "source": [
        "## Fine-tuning mode"
      ]
    },
    {
      "cell_type": "markdown",
      "metadata": {
        "id": "D9xhQS1mNDmG"
      },
      "source": [
        "Fine-tuning mode unfreezes some of the top layers of the convolutional base which it uses for feature extraction, allowing them to learn features in the new data."
      ]
    },
    {
      "cell_type": "markdown",
      "metadata": {
        "id": "e-giceOwNDmG"
      },
      "source": [
        "### Imports and vars"
      ]
    },
    {
      "cell_type": "code",
      "execution_count": 1,
      "metadata": {
        "id": "MexlBUP4NDmH"
      },
      "outputs": [],
      "source": [
        "from keras.datasets import cifar10\n",
        "from keras.utils import to_categorical\n",
        "from keras.models import Sequential\n",
        "from keras.layers import Dense, Dropout, Activation, Flatten\n",
        "from keras.layers import Conv2D, MaxPooling2D\n",
        "from keras.optimizers import SGD, Adam, RMSprop\n",
        "import numpy as np\n",
        "import tensorflow as tf\n",
        "from keras.applications.vgg16 import VGG16\n",
        "from keras.applications.vgg16 import preprocess_input\n",
        "from keras import models, layers"
      ]
    },
    {
      "cell_type": "code",
      "execution_count": 2,
      "metadata": {
        "id": "RSVm1EJMNDmH"
      },
      "outputs": [],
      "source": [
        "# --- Constants ---\n",
        "IMG_ROWS = 32\n",
        "IMG_COLS = 32\n",
        "IMG_CHANNELS = 3\n",
        "BATCH_SIZE = 128\n",
        "NB_EPOCH = 20\n",
        "NB_CLASSES = 10\n",
        "VALIDATION_SPLIT = 0.2\n",
        "OPTIM = RMSprop()"
      ]
    },
    {
      "cell_type": "code",
      "execution_count": 3,
      "metadata": {
        "colab": {
          "base_uri": "https://localhost:8080/"
        },
        "id": "1Eb9guoKNDmH",
        "outputId": "f609c7ce-693b-49c3-a842-c0d94c5095d9"
      },
      "outputs": [
        {
          "name": "stdout",
          "output_type": "stream",
          "text": [
            "X_train shape: (50000, 32, 32, 3)\n",
            "50000 train samples\n",
            "10000 test samples\n"
          ]
        }
      ],
      "source": [
        "# --- Load CIFAR-10 ---\n",
        "(X_train, y_train), (X_test, y_test) = cifar10.load_data()\n",
        "print('X_train shape:', X_train.shape)\n",
        "print(X_train.shape[0], 'train samples')\n",
        "print(X_test.shape[0], 'test samples')\n",
        "Y_train = to_categorical(y_train, NB_CLASSES)\n",
        "Y_test = to_categorical(y_test, NB_CLASSES)\n",
        "X_train = X_train.astype('float32') / 255.0\n",
        "X_test = X_test.astype('float32') / 255.0"
      ]
    },
    {
      "cell_type": "markdown",
      "metadata": {
        "id": "IfkquUhWNDmI"
      },
      "source": [
        "### Freezing and unfreezing"
      ]
    },
    {
      "cell_type": "code",
      "execution_count": null,
      "metadata": {
        "colab": {
          "base_uri": "https://localhost:8080/"
        },
        "id": "AsZhQtCHNDmI",
        "outputId": "ef3876f7-1bdb-402c-fbc4-6aeffa0f0d46"
      },
      "outputs": [],
      "source": [
        "# --- Build the model: VGG16 as convolutional base ---\n",
        "conv_base = VGG16(weights='imagenet',\n",
        "                  include_top=False,\n",
        "                  input_shape=(IMG_ROWS, IMG_COLS, IMG_CHANNELS))\n",
        "\n",
        "# Initially freeze the entire base\n",
        "conv_base.trainable = True\n",
        "set_trainable = False"
      ]
    },
    {
      "cell_type": "markdown",
      "metadata": {
        "id": "p7RfXfqKNDmI"
      },
      "source": [
        "You can **choose** which layers to unfreeze."
      ]
    },
    {
      "cell_type": "code",
      "execution_count": null,
      "metadata": {
        "id": "QHYPcwhqNDmI"
      },
      "outputs": [],
      "source": [
        "# Example rule: unfreeze from 'block5_conv1' onward\n",
        "for layer in conv_base.layers:\n",
        "    if layer.name == 'block5_conv1':\n",
        "        set_trainable = True\n",
        "        # When we get to here, set trainable to true.\n",
        "        # This makes all following layers trainable.\n",
        "\n",
        "    if set_trainable:\n",
        "        layer.trainable = True\n",
        "    else:\n",
        "        layer.trainable = False"
      ]
    },
    {
      "cell_type": "code",
      "execution_count": 6,
      "metadata": {
        "colab": {
          "base_uri": "https://localhost:8080/"
        },
        "id": "5OrxVGWWNDmJ",
        "outputId": "82f77b52-967c-4352-8685-4913c447452e"
      },
      "outputs": [
        {
          "name": "stdout",
          "output_type": "stream",
          "text": [
            "input_1 False\n",
            "block1_conv1 False\n",
            "block1_conv2 False\n",
            "block1_pool False\n",
            "block2_conv1 False\n",
            "block2_conv2 False\n",
            "block2_pool False\n",
            "block3_conv1 False\n",
            "block3_conv2 False\n",
            "block3_conv3 False\n",
            "block3_pool False\n",
            "block4_conv1 False\n",
            "block4_conv2 False\n",
            "block4_conv3 False\n",
            "block4_pool False\n",
            "block5_conv1 True\n",
            "block5_conv2 True\n",
            "block5_conv3 True\n",
            "block5_pool True\n"
          ]
        }
      ],
      "source": [
        "# Check trainable layers\n",
        "for layer in conv_base.layers:\n",
        "    print(layer.name, layer.trainable)"
      ]
    },
    {
      "cell_type": "markdown",
      "metadata": {
        "id": "IAZRlQxiNDmJ"
      },
      "source": [
        "### Model building"
      ]
    },
    {
      "cell_type": "code",
      "execution_count": 7,
      "metadata": {
        "id": "7C107coDNDmJ"
      },
      "outputs": [],
      "source": [
        "model = models.Sequential()\n",
        "model.add(conv_base)\n",
        "model.add(layers.Flatten())\n",
        "model.add(layers.Dense(256, activation='relu'))\n",
        "model.add(layers.Dense(NB_CLASSES, activation='softmax'))\n",
        "\n",
        "model.compile(loss='categorical_crossentropy',\n",
        "              optimizer=OPTIM,\n",
        "              metrics=['accuracy'])"
      ]
    },
    {
      "cell_type": "markdown",
      "metadata": {
        "id": "g06oYo96NDmJ"
      },
      "source": [
        "### Training and evaluation"
      ]
    },
    {
      "cell_type": "code",
      "execution_count": 8,
      "metadata": {
        "colab": {
          "base_uri": "https://localhost:8080/"
        },
        "id": "3d231idWNDmJ",
        "outputId": "1e2ecaed-7fdb-48dd-d7fb-3f0ebbbf44c7"
      },
      "outputs": [
        {
          "name": "stdout",
          "output_type": "stream",
          "text": [
            "Epoch 1/20\n",
            "313/313 [==============================] - 4s 9ms/step - loss: 1.5246 - accuracy: 0.4873 - val_loss: 1.1071 - val_accuracy: 0.6128\n",
            "Epoch 2/20\n",
            "313/313 [==============================] - 3s 8ms/step - loss: 0.9835 - accuracy: 0.6651 - val_loss: 0.9457 - val_accuracy: 0.6867\n",
            "Epoch 3/20\n",
            "313/313 [==============================] - 2s 8ms/step - loss: 0.8496 - accuracy: 0.7138 - val_loss: 0.8954 - val_accuracy: 0.6978\n",
            "Epoch 4/20\n",
            "313/313 [==============================] - 2s 8ms/step - loss: 0.7613 - accuracy: 0.7423 - val_loss: 0.9084 - val_accuracy: 0.7041\n",
            "Epoch 5/20\n",
            "313/313 [==============================] - 3s 8ms/step - loss: 0.6904 - accuracy: 0.7649 - val_loss: 1.0848 - val_accuracy: 0.6749\n",
            "Epoch 6/20\n",
            "313/313 [==============================] - 3s 8ms/step - loss: 0.6334 - accuracy: 0.7861 - val_loss: 0.8656 - val_accuracy: 0.7315\n",
            "Epoch 7/20\n",
            "313/313 [==============================] - 2s 8ms/step - loss: 0.5763 - accuracy: 0.8052 - val_loss: 0.9403 - val_accuracy: 0.7231\n",
            "Epoch 8/20\n",
            "313/313 [==============================] - 2s 8ms/step - loss: 0.5255 - accuracy: 0.8228 - val_loss: 0.9171 - val_accuracy: 0.7276\n",
            "Epoch 9/20\n",
            "313/313 [==============================] - 2s 8ms/step - loss: 0.4836 - accuracy: 0.8394 - val_loss: 1.0699 - val_accuracy: 0.7376\n",
            "Epoch 10/20\n",
            "313/313 [==============================] - 3s 8ms/step - loss: 0.4418 - accuracy: 0.8528 - val_loss: 0.9611 - val_accuracy: 0.7422\n",
            "Epoch 11/20\n",
            "313/313 [==============================] - 2s 8ms/step - loss: 0.3970 - accuracy: 0.8692 - val_loss: 1.1045 - val_accuracy: 0.7385\n",
            "Epoch 12/20\n",
            "313/313 [==============================] - 2s 8ms/step - loss: 0.3629 - accuracy: 0.8809 - val_loss: 1.2879 - val_accuracy: 0.7176\n",
            "Epoch 13/20\n",
            "313/313 [==============================] - 3s 8ms/step - loss: 0.3376 - accuracy: 0.8931 - val_loss: 1.2098 - val_accuracy: 0.7287\n",
            "Epoch 14/20\n",
            "313/313 [==============================] - 3s 8ms/step - loss: 0.3008 - accuracy: 0.9030 - val_loss: 1.5102 - val_accuracy: 0.7075\n",
            "Epoch 15/20\n",
            "313/313 [==============================] - 3s 8ms/step - loss: 0.2710 - accuracy: 0.9145 - val_loss: 1.3253 - val_accuracy: 0.7379\n",
            "Epoch 16/20\n",
            "313/313 [==============================] - 3s 8ms/step - loss: 0.2509 - accuracy: 0.9231 - val_loss: 1.3573 - val_accuracy: 0.7355\n",
            "Epoch 17/20\n",
            "313/313 [==============================] - 3s 8ms/step - loss: 0.2436 - accuracy: 0.9290 - val_loss: 1.4254 - val_accuracy: 0.7253\n",
            "Epoch 18/20\n",
            "313/313 [==============================] - 2s 8ms/step - loss: 0.2168 - accuracy: 0.9338 - val_loss: 1.9944 - val_accuracy: 0.7285\n",
            "Epoch 19/20\n",
            "313/313 [==============================] - 2s 8ms/step - loss: 0.2023 - accuracy: 0.9397 - val_loss: 1.6306 - val_accuracy: 0.7204\n",
            "Epoch 20/20\n",
            "313/313 [==============================] - 3s 8ms/step - loss: 0.1808 - accuracy: 0.9472 - val_loss: 2.4747 - val_accuracy: 0.7341\n"
          ]
        },
        {
          "data": {
            "text/plain": [
              "<keras.callbacks.History at 0x1ea1b7867a0>"
            ]
          },
          "execution_count": 8,
          "metadata": {},
          "output_type": "execute_result"
        }
      ],
      "source": [
        "model.fit(X_train, Y_train,\n",
        "          batch_size=BATCH_SIZE,\n",
        "          epochs=NB_EPOCH,\n",
        "          validation_split=VALIDATION_SPLIT,\n",
        "          verbose=1)"
      ]
    },
    {
      "cell_type": "code",
      "execution_count": null,
      "metadata": {
        "colab": {
          "base_uri": "https://localhost:8080/"
        },
        "id": "PjjYYhPyNDmK",
        "outputId": "71b061a2-69d6-4b77-8beb-aaa7b0727400"
      },
      "outputs": [
        {
          "name": "stdout",
          "output_type": "stream",
          "text": [
            "79/79 [==============================] - 0s 5ms/step - loss: 2.5912 - accuracy: 0.7264\n",
            "Test score: 2.5911684036254883\n",
            "Test accuracy: 0.7263999581336975\n"
          ]
        }
      ],
      "source": [
        "score = model.evaluate(X_test, Y_test,\n",
        "                       batch_size=BATCH_SIZE,\n",
        "                       verbose=1)\n",
        "\n",
        "print(\"Test score:\", score[0])\n",
        "print(\"Test accuracy:\", score[1])"
      ]
    },
    {
      "cell_type": "markdown",
      "metadata": {
        "id": "bFilAg7BP0Ep"
      },
      "source": [
        "# Shallow yielded much better results than fine-tuned in this scenario **when using a COLAB GPU**. On the 9070XT, fine-tuned was better."
      ]
    },
    {
      "cell_type": "markdown",
      "metadata": {},
      "source": [
        "The 9070XT is verifiably 3-4x faster than Colab's Tesla T4."
      ]
    },
    {
      "cell_type": "markdown",
      "metadata": {
        "id": "YBhuFf_OTnqW"
      },
      "source": [
        "Consider it like shallow mode splits the model into two stages, with the original pretrained convolutional base staying independent and then passed into a classifier, whereas finetuned extends the existing convolutional base."
      ]
    }
  ],
  "metadata": {
    "accelerator": "GPU",
    "colab": {
      "gpuType": "T4",
      "provenance": []
    },
    "kernelspec": {
      "display_name": ".venv",
      "language": "python",
      "name": "python3"
    },
    "language_info": {
      "codemirror_mode": {
        "name": "ipython",
        "version": 3
      },
      "file_extension": ".py",
      "mimetype": "text/x-python",
      "name": "python",
      "nbconvert_exporter": "python",
      "pygments_lexer": "ipython3",
      "version": "3.10.16"
    }
  },
  "nbformat": 4,
  "nbformat_minor": 0
}
