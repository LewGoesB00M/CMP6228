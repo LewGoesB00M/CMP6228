{
 "cells": [
  {
   "cell_type": "markdown",
   "metadata": {},
   "source": [
    "**Ensure all other Jupyter kernels are stopped when running GPU-accelerated labs.**"
   ]
  },
  {
   "cell_type": "markdown",
   "metadata": {},
   "source": [
    "**Labs can also run on your laptop CPU, albeit at slightly reduced speed (but less than you might expect).**\n",
    "\n",
    "\n",
    "**If performed on laptop, charger must be connected (4x slower if on battery)**"
   ]
  },
  {
   "cell_type": "code",
   "execution_count": 6,
   "metadata": {},
   "outputs": [
    {
     "name": "stdout",
     "output_type": "stream",
     "text": [
      "TensorFlow version: 2.11.1\n",
      "Detected devices: [PhysicalDevice(name='/physical_device:CPU:0', device_type='CPU')]\n"
     ]
    }
   ],
   "source": [
    "import tensorflow as tf\n",
    "import numpy as np\n",
    "import matplotlib.pyplot as plt\n",
    "\n",
    "from tensorflow.keras.datasets import boston_housing\n",
    "from tensorflow.keras import models\n",
    "from tensorflow.keras import layers\n",
    "\n",
    "from etils import ecolab # ? Collapsible text output.\n",
    "\n",
    "np.random.seed(1671) # Reproducibility, same seed used in lab sheet.\n",
    "\n",
    "print(\"TensorFlow version:\", tf.__version__)\n",
    "print(\"Detected devices:\", tf.config.list_physical_devices())\n",
    "# assert tf.test.is_built_with_cuda() \n",
    "# ? Throws an error if CUDA isn't working properly (GPU disconnected)."
   ]
  },
  {
   "cell_type": "code",
   "execution_count": 3,
   "metadata": {},
   "outputs": [],
   "source": [
    "(trainData, trainTargets), (testData, testTargets) = boston_housing.load_data()"
   ]
  },
  {
   "cell_type": "code",
   "execution_count": 4,
   "metadata": {},
   "outputs": [],
   "source": [
    "mean = trainData.mean(axis=0)\n",
    "trainData -= mean\n",
    "std = trainData.std(axis=0)\n",
    "trainData /= std\n",
    "testData -= mean\n",
    "testData /= std"
   ]
  },
  {
   "cell_type": "code",
   "execution_count": 5,
   "metadata": {},
   "outputs": [],
   "source": [
    "def buildModel():\n",
    "    model = models.Sequential()\n",
    "    \n",
    "    model.add(layers.Dense(64, activation = \"relu\", \n",
    "                           input_shape = (trainData.shape[1],)))\n",
    "    model.add(layers.Dense(64, activation = \"relu\"))\n",
    "    model.add(layers.Dense(1))\n",
    "    \n",
    "    model.compile(optimizer = \"rmsprop\", loss = \"mse\", metrics = [\"mae\"])\n",
    "    return model"
   ]
  },
  {
   "cell_type": "code",
   "execution_count": null,
   "metadata": {},
   "outputs": [],
   "source": [
    "# Will be appended to in order to hold all model metrics.\n",
    "allScores = []\n",
    "\n",
    "def kFold(k, numEpochs, trainData = trainData):\n",
    "    numValSamples = len(trainData) // k\n",
    "    \n",
    "    for i in range(k):\n",
    "        print(\"Processing fold\", i + 1)\n",
    "        valData = trainData[i * numValSamples: (i + 1) * numValSamples] \n",
    "        valTargets = trainTargets[i * numValSamples: (i + 1) * numValSamples]\n",
    "        partialTrainData = np.concatenate(\n",
    "            [trainData[: i * numValSamples], \n",
    "             trainData[(i + 1) * numValSamples:]],\n",
    "            axis = 0\n",
    "        ) \n",
    "        partialTrainTargets = np.concatenate(\n",
    "            [trainTargets[: i * numValSamples], \n",
    "             trainTargets[(i + 1) * numValSamples:]],\n",
    "            axis = 0\n",
    "        ) \n",
    "        \n",
    "        model = buildModel()\n",
    "        \n",
    "        model.fit(partialTrainData, partialTrainTargets, epochs = numEpochs,\n",
    "                  batch_size = 1, verbose = 1)\n",
    "        \n",
    "        valMSE, valMAE = model.evaluate(valData, valTargets)\n",
    "        allScores.append(valMAE)"
   ]
  },
  {
   "cell_type": "code",
   "execution_count": null,
   "metadata": {},
   "outputs": [
    {
     "data": {
      "application/vnd.jupyter.widget-view+json": {
       "model_id": "fc53e20d4fe44f1296911d01637bc991",
       "version_major": 2,
       "version_minor": 0
      },
      "text/plain": [
       "Accordion(children=(Output(),), titles=('',))"
      ]
     },
     "metadata": {},
     "output_type": "display_data"
    }
   ],
   "source": [
    "\n",
    "# ? Collapses output so that this notebook can be scrolled much easier.\n",
    "with ecolab.collapse():\n",
    "    kFold(k = 4, numEpochs = 100)"
   ]
  },
  {
   "cell_type": "code",
   "execution_count": 7,
   "metadata": {},
   "outputs": [
    {
     "name": "stdout",
     "output_type": "stream",
     "text": [
      "Fold 0 MAE: 1.9313733577728271\n",
      "Fold 1 MAE: 2.923966884613037\n",
      "Fold 2 MAE: 2.489597797393799\n",
      "Fold 3 MAE: 2.3872668743133545\n",
      "Overall MAE: 2.4330512285232544\n"
     ]
    }
   ],
   "source": [
    "for i, score in enumerate(allScores):\n",
    "    print(f\"Fold {i} MAE: {score}\")\n",
    "    \n",
    "print(f\"Overall MAE: {np.mean(allScores)}\")"
   ]
  },
  {
   "cell_type": "code",
   "execution_count": null,
   "metadata": {},
   "outputs": [],
   "source": [
    "\n",
    "# ? The KFold function created earlier can be updated to track per-epoch scores.\n",
    "allMAEHistories = []\n",
    "\n",
    "# ? Also refreshing the allScores.\n",
    "allScores = []\n",
    "\n",
    "def kFold(k, numEpochs, trainData = trainData):\n",
    "    numValSamples = len(trainData) // k\n",
    "    \n",
    "    for i in range(k):\n",
    "        print(\"Processing fold\", i + 1)\n",
    "        valData = trainData[i * numValSamples: (i + 1) * numValSamples] \n",
    "        valTargets = trainTargets[i * numValSamples: (i + 1) * numValSamples]\n",
    "        partialTrainData = np.concatenate(\n",
    "            [trainData[: i * numValSamples], \n",
    "             trainData[(i + 1) * numValSamples:]],\n",
    "            axis = 0\n",
    "        ) \n",
    "        partialTrainTargets = np.concatenate(\n",
    "            [trainTargets[: i * numValSamples], \n",
    "             trainTargets[(i + 1) * numValSamples:]],\n",
    "            axis = 0\n",
    "        ) \n",
    "        \n",
    "        model = buildModel()\n",
    "        \n",
    "        # ! New functionality below. Model now uses validation data and \n",
    "        # ! tracks MAEs across all epochs, appending them to allMAEHistories list.\n",
    "        history = model.fit(partialTrainData, partialTrainTargets, \n",
    "                            validation_data = (valData, valTargets),\n",
    "                            epochs = numEpochs, batch_size = 1, verbose = 1)\n",
    "        \n",
    "        maeHistory = history.history[\"val_mae\"]\n",
    "        allMAEHistories.append(maeHistory)\n",
    "        \n",
    "        # ? Also get the per-fold scores as before.\n",
    "        valMSE, valMAE = model.evaluate(valData, valTargets)\n",
    "        allScores.append(valMAE)\n",
    "        \n",
    "    averageMAEHistory = [np.mean([x[i] # ? Get the mean\n",
    "                        for x in allMAEHistories]) # ? of all MAEs\n",
    "                        for i in range(numEpochs)] # ? across all epochs.\n",
    "    \n",
    "    plt.plot(range(1, len(averageMAEHistory) + 1), averageMAEHistory)\n",
    "    plt.xlabel('Epochs')\n",
    "    plt.ylabel('Validation MAE')\n",
    "    plt.show()"
   ]
  },
  {
   "cell_type": "code",
   "execution_count": 18,
   "metadata": {},
   "outputs": [
    {
     "data": {
      "application/vnd.jupyter.widget-view+json": {
       "model_id": "81f0228f6eb242eebe54f8eedb08cf1d",
       "version_major": 2,
       "version_minor": 0
      },
      "text/plain": [
       "Accordion(children=(Output(),), titles=('',))"
      ]
     },
     "metadata": {},
     "output_type": "display_data"
    }
   ],
   "source": [
    "\n",
    "# ? Collapses output so that this notebook can be scrolled much easier.\n",
    "with ecolab.collapse():\n",
    "    kFold(k = 4, numEpochs = 3)\n",
    "    # ? 200 epochs was specified in the lab sheet but it takes approx 5min30sec."
   ]
  },
  {
   "cell_type": "markdown",
   "metadata": {},
   "source": [
    "The graph will look like a very sharp decrease in loss followed by heavy fluctuations across epochs (up/down/up/down etc.)"
   ]
  },
  {
   "cell_type": "code",
   "execution_count": null,
   "metadata": {},
   "outputs": [
    {
     "name": "stdout",
     "output_type": "stream",
     "text": [
      "Fold 0 average MAE: 2.4219443798065186\n",
      "Fold 1 average MAE: 2.9383139610290527\n",
      "Fold 2 average MAE: 2.779630661010742\n",
      "Fold 3 average MAE: 2.814145565032959\n",
      "Average of all folds: 2.738508641719818\n"
     ]
    }
   ],
   "source": [
    "for i, score in enumerate(allScores):\n",
    "    print(f\"Fold {i} average MAE: {score}\")\n",
    "    \n",
    "print(f\"Average of all folds: {np.mean(allScores)}\")\n",
    "\n"
   ]
  },
  {
   "cell_type": "code",
   "execution_count": 12,
   "metadata": {},
   "outputs": [],
   "source": [
    "\n",
    "# ! These last cells were rushed due to time running out in the lab.\n",
    "\n",
    "# Let’s use k-fold cross-validation and get the loss error for\n",
    "# the training and validation sets for visualisation\n",
    "allMAEHistories = []\n",
    "allMAEHistoriesTrain = [] # this is for the training curve\n",
    "\n",
    "def kFold(k, numEpochs, trainData = trainData):\n",
    "    numValSamples = len(trainData) // k\n",
    "    \n",
    "    for i in range(k):\n",
    "        print(\"Processing fold\", i + 1)\n",
    "        valData = trainData[i * numValSamples: (i + 1) * numValSamples] \n",
    "        valTargets = trainTargets[i * numValSamples: (i + 1) * numValSamples]\n",
    "        partialTrainData = np.concatenate(\n",
    "            [trainData[: i * numValSamples], \n",
    "             trainData[(i + 1) * numValSamples:]],\n",
    "            axis = 0\n",
    "        ) \n",
    "        partialTrainTargets = np.concatenate(\n",
    "            [trainTargets[: i * numValSamples], \n",
    "             trainTargets[(i + 1) * numValSamples:]],\n",
    "            axis = 0\n",
    "        ) \n",
    "        \n",
    "        model = buildModel()\n",
    "        \n",
    "        history = model.fit(partialTrainData, partialTrainTargets, \n",
    "                            validation_data = (valData, valTargets),\n",
    "                            epochs = numEpochs, batch_size = 1, verbose = 1)\n",
    "        \n",
    "        maeHistory = history.history[\"val_mae\"]\n",
    "        allMAEHistories.append(maeHistory)\n",
    "        \n",
    "        maeTrainHistory = history.history[\"loss\"]\n",
    "        allMAEHistoriesTrain.append(maeTrainHistory)\n",
    "        \n",
    "        \n",
    "    averageMAEHistory = [np.mean([x[i] \n",
    "                            for x in allMAEHistories]) \n",
    "                            for i in range(numEpochs)]\n",
    "    averageMAEHistoryTrain = [np.mean([x[i] \n",
    "                            for x in allMAEHistoriesTrain]) \n",
    "                            for i in range(numEpochs)]\n",
    "    \n",
    "    plt.plot(range(1, len(averageMAEHistory) + 1),\n",
    "            averageMAEHistory, 'r', label = 'validation loss')\n",
    "    plt.plot(range(1, len(averageMAEHistoryTrain) + 1),\n",
    "            averageMAEHistoryTrain, 'b', label = 'training loss')\n",
    "    \n",
    "    plt.xlabel('Epochs')\n",
    "    plt.ylabel('Loss')\n",
    "    plt.legend()\n",
    "    plt.show()"
   ]
  },
  {
   "cell_type": "code",
   "execution_count": 13,
   "metadata": {},
   "outputs": [
    {
     "name": "stdout",
     "output_type": "stream",
     "text": [
      "Processing fold 1\n",
      "Epoch 1/25\n",
      "303/303 [==============================] - 1s 2ms/step - loss: 205.6472 - mae: 10.8201 - val_loss: 35.0808 - val_mae: 3.9436\n",
      "Epoch 2/25\n",
      "303/303 [==============================] - 0s 1ms/step - loss: 28.5402 - mae: 3.5877 - val_loss: 21.8692 - val_mae: 2.9339\n",
      "Epoch 3/25\n",
      "303/303 [==============================] - 0s 1ms/step - loss: 20.0181 - mae: 3.0289 - val_loss: 16.8216 - val_mae: 2.5931\n",
      "Epoch 4/25\n",
      "303/303 [==============================] - 0s 1ms/step - loss: 16.6317 - mae: 2.7768 - val_loss: 15.5566 - val_mae: 2.4647\n",
      "Epoch 5/25\n",
      "303/303 [==============================] - 1s 2ms/step - loss: 14.6760 - mae: 2.5878 - val_loss: 17.1614 - val_mae: 2.8130\n",
      "Epoch 6/25\n",
      "303/303 [==============================] - 1s 2ms/step - loss: 14.0933 - mae: 2.4604 - val_loss: 11.2631 - val_mae: 2.3285\n",
      "Epoch 7/25\n",
      "303/303 [==============================] - 0s 1ms/step - loss: 13.5082 - mae: 2.4435 - val_loss: 11.2712 - val_mae: 2.4261\n",
      "Epoch 8/25\n",
      "303/303 [==============================] - 0s 1ms/step - loss: 12.4210 - mae: 2.3098 - val_loss: 10.9136 - val_mae: 2.2545\n",
      "Epoch 9/25\n",
      "303/303 [==============================] - 0s 2ms/step - loss: 12.3766 - mae: 2.3528 - val_loss: 11.1096 - val_mae: 2.2074\n",
      "Epoch 10/25\n",
      "303/303 [==============================] - 0s 2ms/step - loss: 12.7600 - mae: 2.2902 - val_loss: 9.8701 - val_mae: 2.0270\n",
      "Epoch 11/25\n",
      "303/303 [==============================] - 0s 1ms/step - loss: 11.8685 - mae: 2.2427 - val_loss: 11.4150 - val_mae: 2.4986\n",
      "Epoch 12/25\n",
      "303/303 [==============================] - 1s 2ms/step - loss: 11.6645 - mae: 2.2557 - val_loss: 10.9715 - val_mae: 2.2004\n",
      "Epoch 13/25\n",
      "303/303 [==============================] - 1s 2ms/step - loss: 11.2102 - mae: 2.1823 - val_loss: 11.6374 - val_mae: 2.3394\n",
      "Epoch 14/25\n",
      "303/303 [==============================] - 0s 2ms/step - loss: 10.9138 - mae: 2.1663 - val_loss: 9.3138 - val_mae: 2.0457\n",
      "Epoch 15/25\n",
      "303/303 [==============================] - 0s 1ms/step - loss: 10.5783 - mae: 2.1437 - val_loss: 9.1714 - val_mae: 1.9562\n",
      "Epoch 16/25\n",
      "303/303 [==============================] - 0s 1ms/step - loss: 10.2834 - mae: 2.1241 - val_loss: 8.3242 - val_mae: 2.0558\n",
      "Epoch 17/25\n",
      "303/303 [==============================] - 0s 1ms/step - loss: 10.3456 - mae: 2.1628 - val_loss: 8.6465 - val_mae: 2.0482\n",
      "Epoch 18/25\n",
      "303/303 [==============================] - 0s 2ms/step - loss: 10.0096 - mae: 2.1087 - val_loss: 8.5272 - val_mae: 2.0420\n",
      "Epoch 19/25\n",
      "303/303 [==============================] - 1s 2ms/step - loss: 9.3659 - mae: 2.0761 - val_loss: 9.1813 - val_mae: 2.0698\n",
      "Epoch 20/25\n",
      "303/303 [==============================] - 0s 1ms/step - loss: 9.7887 - mae: 2.0749 - val_loss: 10.1075 - val_mae: 2.4984\n",
      "Epoch 21/25\n",
      "303/303 [==============================] - 0s 1ms/step - loss: 9.4369 - mae: 2.0185 - val_loss: 8.5735 - val_mae: 1.9286\n",
      "Epoch 22/25\n",
      "303/303 [==============================] - 0s 1ms/step - loss: 9.7634 - mae: 2.0615 - val_loss: 8.0928 - val_mae: 1.9847\n",
      "Epoch 23/25\n",
      "303/303 [==============================] - 0s 1ms/step - loss: 8.8170 - mae: 2.0489 - val_loss: 8.1579 - val_mae: 1.9278\n",
      "Epoch 24/25\n",
      "303/303 [==============================] - 0s 1ms/step - loss: 9.2944 - mae: 2.0401 - val_loss: 7.5253 - val_mae: 1.9748\n",
      "Epoch 25/25\n",
      "303/303 [==============================] - 0s 1ms/step - loss: 9.2226 - mae: 2.0531 - val_loss: 7.8077 - val_mae: 1.9949\n",
      "Processing fold 2\n",
      "Epoch 1/25\n",
      "303/303 [==============================] - 1s 2ms/step - loss: 189.7443 - mae: 10.1179 - val_loss: 30.2130 - val_mae: 4.1011\n",
      "Epoch 2/25\n",
      "303/303 [==============================] - 1s 2ms/step - loss: 28.0357 - mae: 3.6548 - val_loss: 19.0466 - val_mae: 3.1501\n",
      "Epoch 3/25\n",
      "303/303 [==============================] - 0s 1ms/step - loss: 21.4602 - mae: 2.9968 - val_loss: 16.4777 - val_mae: 2.9379\n",
      "Epoch 4/25\n",
      "303/303 [==============================] - 0s 1ms/step - loss: 17.6795 - mae: 2.6828 - val_loss: 15.3117 - val_mae: 2.8287\n",
      "Epoch 5/25\n",
      "303/303 [==============================] - 0s 1ms/step - loss: 15.0484 - mae: 2.6105 - val_loss: 14.1551 - val_mae: 2.7920\n",
      "Epoch 6/25\n",
      "303/303 [==============================] - 0s 1ms/step - loss: 14.0856 - mae: 2.3842 - val_loss: 14.9042 - val_mae: 2.9016\n",
      "Epoch 7/25\n",
      "303/303 [==============================] - 0s 1ms/step - loss: 12.6397 - mae: 2.3684 - val_loss: 12.4676 - val_mae: 2.6228\n",
      "Epoch 8/25\n",
      "303/303 [==============================] - 0s 1ms/step - loss: 12.4332 - mae: 2.2973 - val_loss: 12.2371 - val_mae: 2.6608\n",
      "Epoch 9/25\n",
      "303/303 [==============================] - 0s 1ms/step - loss: 11.4608 - mae: 2.2178 - val_loss: 13.8007 - val_mae: 2.8781\n",
      "Epoch 10/25\n",
      "303/303 [==============================] - 0s 1ms/step - loss: 11.8380 - mae: 2.2029 - val_loss: 11.8413 - val_mae: 2.6282\n",
      "Epoch 11/25\n",
      "303/303 [==============================] - 0s 1ms/step - loss: 11.1257 - mae: 2.1606 - val_loss: 13.6088 - val_mae: 2.8031\n",
      "Epoch 12/25\n",
      "303/303 [==============================] - 0s 1ms/step - loss: 11.1552 - mae: 2.1474 - val_loss: 13.2003 - val_mae: 2.8032\n",
      "Epoch 13/25\n",
      "303/303 [==============================] - 0s 1ms/step - loss: 10.4849 - mae: 2.1085 - val_loss: 11.9528 - val_mae: 2.6402\n",
      "Epoch 14/25\n",
      "303/303 [==============================] - 0s 1ms/step - loss: 10.1962 - mae: 2.0996 - val_loss: 11.2136 - val_mae: 2.5623\n",
      "Epoch 15/25\n",
      "303/303 [==============================] - 0s 2ms/step - loss: 9.3184 - mae: 2.0793 - val_loss: 10.1790 - val_mae: 2.4233\n",
      "Epoch 16/25\n",
      "303/303 [==============================] - 0s 2ms/step - loss: 9.8927 - mae: 2.0454 - val_loss: 11.3987 - val_mae: 2.5668\n",
      "Epoch 17/25\n",
      "303/303 [==============================] - 1s 2ms/step - loss: 9.4127 - mae: 2.0266 - val_loss: 10.8928 - val_mae: 2.4830\n",
      "Epoch 18/25\n",
      "303/303 [==============================] - 0s 2ms/step - loss: 9.5494 - mae: 2.0628 - val_loss: 13.2271 - val_mae: 2.8260\n",
      "Epoch 19/25\n",
      "303/303 [==============================] - 0s 1ms/step - loss: 9.4935 - mae: 1.9954 - val_loss: 11.0578 - val_mae: 2.4964\n",
      "Epoch 20/25\n",
      "303/303 [==============================] - 0s 1ms/step - loss: 9.0467 - mae: 1.9969 - val_loss: 12.3767 - val_mae: 2.6799\n",
      "Epoch 21/25\n",
      "303/303 [==============================] - 0s 1ms/step - loss: 8.8894 - mae: 1.8979 - val_loss: 16.3787 - val_mae: 3.0866\n",
      "Epoch 22/25\n",
      "303/303 [==============================] - 0s 1ms/step - loss: 8.6555 - mae: 1.9323 - val_loss: 9.8021 - val_mae: 2.3335\n",
      "Epoch 23/25\n",
      "303/303 [==============================] - 0s 1ms/step - loss: 9.2412 - mae: 1.8968 - val_loss: 11.2402 - val_mae: 2.5471\n",
      "Epoch 24/25\n",
      "303/303 [==============================] - 0s 1ms/step - loss: 8.8727 - mae: 1.8805 - val_loss: 11.0579 - val_mae: 2.4725\n",
      "Epoch 25/25\n",
      "303/303 [==============================] - 0s 1ms/step - loss: 8.7397 - mae: 1.9327 - val_loss: 11.2431 - val_mae: 2.5670\n",
      "Processing fold 3\n",
      "Epoch 1/25\n",
      "303/303 [==============================] - 1s 2ms/step - loss: 197.3876 - mae: 10.3725 - val_loss: 28.2174 - val_mae: 3.5959\n",
      "Epoch 2/25\n",
      "303/303 [==============================] - 0s 1ms/step - loss: 26.9088 - mae: 3.5883 - val_loss: 21.0877 - val_mae: 3.0782\n",
      "Epoch 3/25\n",
      "303/303 [==============================] - 0s 1ms/step - loss: 18.9813 - mae: 2.9829 - val_loss: 17.9563 - val_mae: 2.9144\n",
      "Epoch 4/25\n",
      "303/303 [==============================] - 0s 1ms/step - loss: 14.9930 - mae: 2.6998 - val_loss: 15.9364 - val_mae: 2.4754\n",
      "Epoch 5/25\n",
      "303/303 [==============================] - 0s 1ms/step - loss: 13.6410 - mae: 2.5586 - val_loss: 16.4365 - val_mae: 2.5528\n",
      "Epoch 6/25\n",
      "303/303 [==============================] - 0s 2ms/step - loss: 12.1479 - mae: 2.4159 - val_loss: 15.6017 - val_mae: 2.5842\n",
      "Epoch 7/25\n",
      "303/303 [==============================] - 0s 2ms/step - loss: 10.8592 - mae: 2.2744 - val_loss: 14.4460 - val_mae: 2.4162\n",
      "Epoch 8/25\n",
      "303/303 [==============================] - 0s 1ms/step - loss: 10.7371 - mae: 2.2578 - val_loss: 16.5525 - val_mae: 2.7201\n",
      "Epoch 9/25\n",
      "303/303 [==============================] - 0s 1ms/step - loss: 9.7721 - mae: 2.1868 - val_loss: 15.7689 - val_mae: 2.6337\n",
      "Epoch 10/25\n",
      "303/303 [==============================] - 0s 1ms/step - loss: 9.4492 - mae: 2.1530 - val_loss: 14.6135 - val_mae: 2.3969\n",
      "Epoch 11/25\n",
      "303/303 [==============================] - 0s 1ms/step - loss: 9.0238 - mae: 2.0818 - val_loss: 18.4630 - val_mae: 2.8988\n",
      "Epoch 12/25\n",
      "303/303 [==============================] - 0s 2ms/step - loss: 8.7068 - mae: 2.0165 - val_loss: 14.8270 - val_mae: 2.4763\n",
      "Epoch 13/25\n",
      "303/303 [==============================] - 0s 1ms/step - loss: 9.0711 - mae: 2.1580 - val_loss: 15.3332 - val_mae: 2.6416\n",
      "Epoch 14/25\n",
      "303/303 [==============================] - 0s 1ms/step - loss: 8.5875 - mae: 2.0591 - val_loss: 16.4472 - val_mae: 2.6718\n",
      "Epoch 15/25\n",
      "303/303 [==============================] - 0s 1ms/step - loss: 8.4029 - mae: 2.0491 - val_loss: 15.5994 - val_mae: 2.5148\n",
      "Epoch 16/25\n",
      "303/303 [==============================] - 0s 1ms/step - loss: 8.3711 - mae: 2.0097 - val_loss: 14.0784 - val_mae: 2.4866\n",
      "Epoch 17/25\n",
      "303/303 [==============================] - 1s 2ms/step - loss: 8.2078 - mae: 1.9919 - val_loss: 15.1705 - val_mae: 2.5327\n",
      "Epoch 18/25\n",
      "303/303 [==============================] - 0s 1ms/step - loss: 8.1443 - mae: 1.9888 - val_loss: 14.7523 - val_mae: 2.6385\n",
      "Epoch 19/25\n",
      "303/303 [==============================] - 0s 1ms/step - loss: 7.8417 - mae: 1.9100 - val_loss: 15.2367 - val_mae: 2.6142\n",
      "Epoch 20/25\n",
      "303/303 [==============================] - 1s 2ms/step - loss: 7.2895 - mae: 1.9417 - val_loss: 15.2747 - val_mae: 2.6643\n",
      "Epoch 21/25\n",
      "303/303 [==============================] - 0s 2ms/step - loss: 7.8668 - mae: 1.8986 - val_loss: 15.8753 - val_mae: 2.5614\n",
      "Epoch 22/25\n",
      "303/303 [==============================] - 0s 1ms/step - loss: 7.6078 - mae: 1.9348 - val_loss: 13.9576 - val_mae: 2.3944\n",
      "Epoch 23/25\n",
      "303/303 [==============================] - 0s 2ms/step - loss: 7.1119 - mae: 1.8858 - val_loss: 14.5314 - val_mae: 2.5814\n",
      "Epoch 24/25\n",
      "303/303 [==============================] - 0s 1ms/step - loss: 6.8200 - mae: 1.8296 - val_loss: 14.8685 - val_mae: 2.5840\n",
      "Epoch 25/25\n",
      "303/303 [==============================] - 1s 2ms/step - loss: 7.0672 - mae: 1.8340 - val_loss: 14.6611 - val_mae: 2.6377\n",
      "Processing fold 4\n",
      "Epoch 1/25\n",
      "303/303 [==============================] - 1s 2ms/step - loss: 197.2056 - mae: 10.6663 - val_loss: 56.8360 - val_mae: 5.3713\n",
      "Epoch 2/25\n",
      "303/303 [==============================] - 0s 1ms/step - loss: 25.3105 - mae: 3.4234 - val_loss: 39.6091 - val_mae: 4.1638\n",
      "Epoch 3/25\n",
      "303/303 [==============================] - 0s 1ms/step - loss: 18.9395 - mae: 2.9317 - val_loss: 33.1381 - val_mae: 3.6501\n",
      "Epoch 4/25\n",
      "303/303 [==============================] - 0s 1ms/step - loss: 16.2383 - mae: 2.6485 - val_loss: 27.7167 - val_mae: 3.2758\n",
      "Epoch 5/25\n",
      "303/303 [==============================] - 0s 1ms/step - loss: 13.8978 - mae: 2.4691 - val_loss: 25.9348 - val_mae: 3.2127\n",
      "Epoch 6/25\n",
      "303/303 [==============================] - 0s 1ms/step - loss: 13.1123 - mae: 2.3529 - val_loss: 23.2065 - val_mae: 3.0096\n",
      "Epoch 7/25\n",
      "303/303 [==============================] - 1s 2ms/step - loss: 12.2882 - mae: 2.2939 - val_loss: 25.4835 - val_mae: 3.0954\n",
      "Epoch 8/25\n",
      "303/303 [==============================] - 0s 1ms/step - loss: 11.6076 - mae: 2.2965 - val_loss: 19.6273 - val_mae: 2.8142\n",
      "Epoch 9/25\n",
      "303/303 [==============================] - 0s 1ms/step - loss: 11.2517 - mae: 2.2276 - val_loss: 22.9404 - val_mae: 3.0153\n",
      "Epoch 10/25\n",
      "303/303 [==============================] - 0s 1ms/step - loss: 11.2037 - mae: 2.1737 - val_loss: 17.3542 - val_mae: 2.6847\n",
      "Epoch 11/25\n",
      "303/303 [==============================] - 0s 1ms/step - loss: 10.6808 - mae: 2.1345 - val_loss: 18.8999 - val_mae: 2.8090\n",
      "Epoch 12/25\n",
      "303/303 [==============================] - 0s 1ms/step - loss: 9.9738 - mae: 2.0656 - val_loss: 16.0321 - val_mae: 2.5727\n",
      "Epoch 13/25\n",
      "303/303 [==============================] - 0s 1ms/step - loss: 9.5572 - mae: 2.0178 - val_loss: 18.7692 - val_mae: 2.7134\n",
      "Epoch 14/25\n",
      "303/303 [==============================] - 0s 1ms/step - loss: 9.5056 - mae: 2.0358 - val_loss: 17.8074 - val_mae: 2.7329\n",
      "Epoch 15/25\n",
      "303/303 [==============================] - 0s 1ms/step - loss: 9.8779 - mae: 2.0322 - val_loss: 16.1563 - val_mae: 2.5256\n",
      "Epoch 16/25\n",
      "303/303 [==============================] - 0s 1ms/step - loss: 9.7192 - mae: 2.0512 - val_loss: 18.5198 - val_mae: 2.6937\n",
      "Epoch 17/25\n",
      "303/303 [==============================] - 0s 1ms/step - loss: 9.0809 - mae: 1.9929 - val_loss: 16.3353 - val_mae: 2.5528\n",
      "Epoch 18/25\n",
      "303/303 [==============================] - 0s 1ms/step - loss: 8.6678 - mae: 1.9027 - val_loss: 16.4290 - val_mae: 2.6639\n",
      "Epoch 19/25\n",
      "303/303 [==============================] - 0s 1ms/step - loss: 8.9557 - mae: 1.9946 - val_loss: 18.0018 - val_mae: 2.9998\n",
      "Epoch 20/25\n",
      "303/303 [==============================] - 0s 1ms/step - loss: 8.9640 - mae: 1.9478 - val_loss: 14.5909 - val_mae: 2.4318\n",
      "Epoch 21/25\n",
      "303/303 [==============================] - 1s 2ms/step - loss: 8.6178 - mae: 1.9391 - val_loss: 15.6606 - val_mae: 2.4876\n",
      "Epoch 22/25\n",
      "303/303 [==============================] - 0s 1ms/step - loss: 7.7728 - mae: 1.8762 - val_loss: 15.8898 - val_mae: 2.6369\n",
      "Epoch 23/25\n",
      "303/303 [==============================] - 0s 1ms/step - loss: 8.0324 - mae: 1.8593 - val_loss: 12.8822 - val_mae: 2.3467\n",
      "Epoch 24/25\n",
      "303/303 [==============================] - 0s 1ms/step - loss: 8.1136 - mae: 1.8930 - val_loss: 14.0484 - val_mae: 2.4455\n",
      "Epoch 25/25\n",
      "303/303 [==============================] - 0s 1ms/step - loss: 8.0182 - mae: 1.8112 - val_loss: 13.6461 - val_mae: 2.3673\n"
     ]
    },
    {
     "data": {
      "image/png": "[encoded data removed]",
      "text/plain": [
       "<Figure size 640x480 with 1 Axes>"
      ]
     },
     "metadata": {},
     "output_type": "display_data"
    }
   ],
   "source": [
    "\n",
    "# ? It's possible that there's been an error if any cell is run twice.\n",
    "# ? Attempted fix is resetting arrays.\n",
    "allMAEHistories = []\n",
    "allMAEHistoriesTrain = []\n",
    "\n",
    "kFold(k = 4, numEpochs = 25)\n",
    "# ? 200 epochs was specified in the lab sheet but it takes approx 5min30sec."
   ]
  },
  {
   "cell_type": "code",
   "execution_count": null,
   "metadata": {},
   "outputs": [],
   "source": []
  }
 ],
 "metadata": {
  "kernelspec": {
   "display_name": ".venv",
   "language": "python",
   "name": "python3"
  },
  "language_info": {
   "codemirror_mode": {
    "name": "ipython",
    "version": 3
   },
   "file_extension": ".py",
   "mimetype": "text/x-python",
   "name": "python",
   "nbconvert_exporter": "python",
   "pygments_lexer": "ipython3",
   "version": "3.9.21"
  }
 },
 "nbformat": 4,
 "nbformat_minor": 2
}
